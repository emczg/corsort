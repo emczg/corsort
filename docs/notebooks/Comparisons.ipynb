{
 "cells": [
  {
   "cell_type": "code",
   "execution_count": 1,
   "id": "15b95cdd",
   "metadata": {
    "ExecuteTime": {
     "end_time": "2023-01-29T20:32:41.264561Z",
     "start_time": "2023-01-29T20:32:40.660047Z"
    }
   },
   "outputs": [],
   "source": [
    "from corsort import corsort, quicksort, entropy_bound, evaluate_comparisons\n",
    "from matplotlib import pyplot as plt\n",
    "import numpy as np\n",
    "from multiprocess.pool import Pool\n",
    "import dill as pickle"
   ]
  },
  {
   "cell_type": "code",
   "execution_count": 2,
   "id": "cd52b412",
   "metadata": {
    "ExecuteTime": {
     "end_time": "2023-01-29T20:32:41.268359Z",
     "start_time": "2023-01-29T20:32:41.265680Z"
    }
   },
   "outputs": [],
   "source": [
    "sort_list = [quicksort, corsort]\n",
    "n_list = [2**i for i in range(3, 11)]\n",
    "n_t = 10000"
   ]
  },
  {
   "cell_type": "code",
   "execution_count": 3,
   "id": "b9ff8a9e",
   "metadata": {
    "ExecuteTime": {
     "end_time": "2023-01-30T03:07:08.196090Z",
     "start_time": "2023-01-29T20:32:41.269761Z"
    }
   },
   "outputs": [
    {
     "name": "stdout",
     "output_type": "stream",
     "text": [
      "Evaluate quicksort for n = 8\n"
     ]
    },
    {
     "name": "stderr",
     "output_type": "stream",
     "text": [
      "100%|██████████| 10000/10000 [00:29<00:00, 336.49it/s]\n"
     ]
    },
    {
     "name": "stdout",
     "output_type": "stream",
     "text": [
      "Evaluate corsort for n = 8\n"
     ]
    },
    {
     "name": "stderr",
     "output_type": "stream",
     "text": [
      "100%|██████████| 10000/10000 [01:16<00:00, 131.58it/s]\n"
     ]
    },
    {
     "name": "stdout",
     "output_type": "stream",
     "text": [
      "Evaluate quicksort for n = 16\n"
     ]
    },
    {
     "name": "stderr",
     "output_type": "stream",
     "text": [
      "100%|██████████| 10000/10000 [00:24<00:00, 412.58it/s]\n"
     ]
    },
    {
     "name": "stdout",
     "output_type": "stream",
     "text": [
      "Evaluate corsort for n = 16\n"
     ]
    },
    {
     "name": "stderr",
     "output_type": "stream",
     "text": [
      "100%|██████████| 10000/10000 [01:09<00:00, 143.95it/s]\n"
     ]
    },
    {
     "name": "stdout",
     "output_type": "stream",
     "text": [
      "Evaluate quicksort for n = 32\n"
     ]
    },
    {
     "name": "stderr",
     "output_type": "stream",
     "text": [
      "100%|██████████| 10000/10000 [00:25<00:00, 391.52it/s]\n"
     ]
    },
    {
     "name": "stdout",
     "output_type": "stream",
     "text": [
      "Evaluate corsort for n = 32\n"
     ]
    },
    {
     "name": "stderr",
     "output_type": "stream",
     "text": [
      "100%|██████████| 10000/10000 [01:10<00:00, 142.69it/s]\n"
     ]
    },
    {
     "name": "stdout",
     "output_type": "stream",
     "text": [
      "Evaluate quicksort for n = 64\n"
     ]
    },
    {
     "name": "stderr",
     "output_type": "stream",
     "text": [
      "100%|██████████| 10000/10000 [00:24<00:00, 414.72it/s]\n"
     ]
    },
    {
     "name": "stdout",
     "output_type": "stream",
     "text": [
      "Evaluate corsort for n = 64\n"
     ]
    },
    {
     "name": "stderr",
     "output_type": "stream",
     "text": [
      "100%|██████████| 10000/10000 [01:15<00:00, 131.96it/s]\n"
     ]
    },
    {
     "name": "stdout",
     "output_type": "stream",
     "text": [
      "Evaluate quicksort for n = 128\n"
     ]
    },
    {
     "name": "stderr",
     "output_type": "stream",
     "text": [
      "100%|██████████| 10000/10000 [00:24<00:00, 412.95it/s]\n"
     ]
    },
    {
     "name": "stdout",
     "output_type": "stream",
     "text": [
      "Evaluate corsort for n = 128\n"
     ]
    },
    {
     "name": "stderr",
     "output_type": "stream",
     "text": [
      "100%|██████████| 10000/10000 [01:27<00:00, 114.92it/s]\n"
     ]
    },
    {
     "name": "stdout",
     "output_type": "stream",
     "text": [
      "Evaluate quicksort for n = 256\n"
     ]
    },
    {
     "name": "stderr",
     "output_type": "stream",
     "text": [
      "100%|██████████| 10000/10000 [00:27<00:00, 368.63it/s]\n"
     ]
    },
    {
     "name": "stdout",
     "output_type": "stream",
     "text": [
      "Evaluate corsort for n = 256\n"
     ]
    },
    {
     "name": "stderr",
     "output_type": "stream",
     "text": [
      "100%|██████████| 10000/10000 [04:05<00:00, 40.79it/s]\n"
     ]
    },
    {
     "name": "stdout",
     "output_type": "stream",
     "text": [
      "Evaluate quicksort for n = 512\n"
     ]
    },
    {
     "name": "stderr",
     "output_type": "stream",
     "text": [
      "100%|██████████| 10000/10000 [00:26<00:00, 371.98it/s]\n"
     ]
    },
    {
     "name": "stdout",
     "output_type": "stream",
     "text": [
      "Evaluate corsort for n = 512\n"
     ]
    },
    {
     "name": "stderr",
     "output_type": "stream",
     "text": [
      "100%|██████████| 10000/10000 [36:09<00:00,  4.61it/s] \n"
     ]
    },
    {
     "name": "stdout",
     "output_type": "stream",
     "text": [
      "Evaluate quicksort for n = 1024\n"
     ]
    },
    {
     "name": "stderr",
     "output_type": "stream",
     "text": [
      "100%|██████████| 10000/10000 [00:30<00:00, 324.81it/s]\n"
     ]
    },
    {
     "name": "stdout",
     "output_type": "stream",
     "text": [
      "Evaluate corsort for n = 1024\n"
     ]
    },
    {
     "name": "stderr",
     "output_type": "stream",
     "text": [
      " 34%|███▍      | 3427/10000 [1:57:10<3:45:41,  2.06s/it] IOPub message rate exceeded.\n",
      "The notebook server will temporarily stop sending output\n",
      "to the client in order to avoid crashing it.\n",
      "To change this limit, set the config variable\n",
      "`--NotebookApp.iopub_msg_rate_limit`.\n",
      "\n",
      "Current values:\n",
      "NotebookApp.iopub_msg_rate_limit=1000.0 (msgs/sec)\n",
      "NotebookApp.rate_limit_window=3.0 (secs)\n",
      "\n"
     ]
    }
   ],
   "source": [
    "with Pool(24) as p:\n",
    "    comparisons = evaluate_comparisons(n_list=n_list, sort_list=sort_list, nt=n_t, pool=p)"
   ]
  },
  {
   "cell_type": "code",
   "execution_count": 4,
   "id": "45a05e36",
   "metadata": {
    "ExecuteTime": {
     "end_time": "2023-01-30T03:07:08.429601Z",
     "start_time": "2023-01-30T03:07:08.197836Z"
    }
   },
   "outputs": [],
   "source": [
    "with open(f'comparisons_{n_t}.pkl', 'wb') as f:\n",
    "    pickle.dump(comparisons, f)"
   ]
  },
  {
   "cell_type": "code",
   "execution_count": 15,
   "id": "77b5e814",
   "metadata": {
    "ExecuteTime": {
     "end_time": "2023-01-30T06:08:37.543932Z",
     "start_time": "2023-01-30T06:08:37.235908Z"
    }
   },
   "outputs": [
    {
     "data": {
      "image/png": "[encoded data removed]",
      "text/plain": [
       "<Figure size 1080x720 with 1 Axes>"
      ]
     },
     "metadata": {
      "needs_background": "light"
     },
     "output_type": "display_data"
    }
   ],
   "source": [
    "colors = plt.rcParams['axes.prop_cycle'].by_key()['color']\n",
    "\n",
    "\n",
    "fig = plt.figure(figsize=(15, 10))\n",
    "ax = plt.axes()\n",
    "ax.set_xscale(\"log\")\n",
    "\n",
    "for color, ns in zip(colors, comparisons.items()):\n",
    "    name, stats = ns\n",
    "    n_list = [n for n in stats]\n",
    "    bounds = np.array([entropy_bound(n) for n in n_list])\n",
    "    times = stats.values()\n",
    "    q = np.zeros((5, len(times)), dtype=int)\n",
    "    for i, per in enumerate([10, 25, 50, 75, 90]):\n",
    "        for j, s in enumerate(times):\n",
    "            q[i, j] = np.percentile(s, per)\n",
    "    q = 100*(q/bounds-1)\n",
    "    ax.plot(n_list, q[2, :], marker='.', label=name, color=color)\n",
    "    ax.fill_between(n_list, q[1, :], q[3, :], alpha=.4, color=color)\n",
    "    ax.fill_between(n_list, q[0, :], q[4, :], alpha=.2, color=color)\n",
    "\n",
    "ax.legend()\n",
    "ax.tick_params(labelright=True, right=True)\n",
    "plt.ylabel('Relative overhead (%)')\n",
    "plt.xlabel('$n$')\n",
    "plt.ylim([0, None])\n",
    "plt.xlim([8, 1024])\n",
    "plt.show()"
   ]
  }
 ],
 "metadata": {
  "kernelspec": {
   "display_name": "Python 3 (ipykernel)",
   "language": "python",
   "name": "python3"
  },
  "language_info": {
   "codemirror_mode": {
    "name": "ipython",
    "version": 3
   },
   "file_extension": ".py",
   "mimetype": "text/x-python",
   "name": "python",
   "nbconvert_exporter": "python",
   "pygments_lexer": "ipython3",
   "version": "3.9.7"
  },
  "toc": {
   "base_numbering": 1,
   "nav_menu": {},
   "number_sections": true,
   "sideBar": true,
   "skip_h1_title": true,
   "title_cell": "Table of Contents",
   "title_sidebar": "Contents",
   "toc_cell": false,
   "toc_position": {},
   "toc_section_display": true,
   "toc_window_display": false
  }
 },
 "nbformat": 4,
 "nbformat_minor": 5
}
