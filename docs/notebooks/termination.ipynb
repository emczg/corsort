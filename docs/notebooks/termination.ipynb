{
 "cells": [
  {
   "cell_type": "markdown",
   "id": "66f65bc3",
   "metadata": {},
   "source": [
    "# Termination times"
   ]
  },
  {
   "cell_type": "markdown",
   "id": "be0bcd9d",
   "metadata": {},
   "source": [
    "This notebook shows how to use the `corsort` package to determine the average termination time of several sorting algorithms.\n",
    "\n",
    "Here the following sorts will be compared:\n",
    "\n",
    "- Heapsort\n",
    "- Quicksort\n",
    "- Corsort\n",
    "- Mergesort\n",
    "- Ford-Johnson"
   ]
  },
  {
   "cell_type": "markdown",
   "id": "cfa06d7c",
   "metadata": {},
   "source": [
    "First we load some packages."
   ]
  },
  {
   "cell_type": "code",
   "execution_count": 1,
   "id": "efc2cf00",
   "metadata": {
    "ExecuteTime": {
     "end_time": "2023-02-14T16:33:28.246980Z",
     "start_time": "2023-02-14T16:33:27.766036Z"
    }
   },
   "outputs": [],
   "source": [
    "import numpy as np\n",
    "from matplotlib import pyplot as plt\n",
    "from multiprocess.pool import Pool\n",
    "\n",
    "from corsort import (\n",
    "    evaluate_comparisons, auto_colors, entropy_bound,\n",
    "    SortFordJohnson, SortMergeDfs, SortQuick, \n",
    "    WrapFullJit, jit_corsort_drift_max_spaced, jit_heapsort\n",
    ")"
   ]
  },
  {
   "cell_type": "markdown",
   "id": "b2e77a64",
   "metadata": {},
   "source": [
    "We populate the list of sorts we want to study. "
   ]
  },
  {
   "cell_type": "code",
   "execution_count": 2,
   "id": "7aa256cc",
   "metadata": {
    "ExecuteTime": {
     "end_time": "2023-02-14T16:33:28.250814Z",
     "start_time": "2023-02-14T16:33:28.248242Z"
    }
   },
   "outputs": [],
   "source": [
    "sort_list = [WrapFullJit(jit_heapsort), SortQuick(), WrapFullJit(jit_corsort_drift_max_spaced),\n",
    "             SortMergeDfs(), SortFordJohnson()]"
   ]
  },
  {
   "cell_type": "markdown",
   "id": "0636590f",
   "metadata": {},
   "source": [
    "We decide the values of $n$ to study and the number of trials. For this notebook, we limit to $100$ trials but for better quality 10,000 is recommended (takes a bit more time)."
   ]
  },
  {
   "cell_type": "code",
   "execution_count": 3,
   "id": "cd52b412",
   "metadata": {
    "ExecuteTime": {
     "end_time": "2023-02-14T16:33:28.412011Z",
     "start_time": "2023-02-14T16:33:28.251735Z"
    }
   },
   "outputs": [],
   "source": [
    "n_list = [2**i for i in range(3, 11)]\n",
    "n_t = 100"
   ]
  },
  {
   "cell_type": "markdown",
   "id": "fb7aecb8",
   "metadata": {},
   "source": [
    "We now run the experiments, with some multi-processing to speed-up things."
   ]
  },
  {
   "cell_type": "code",
   "execution_count": 4,
   "id": "b9ff8a9e",
   "metadata": {
    "ExecuteTime": {
     "end_time": "2023-02-14T16:35:23.042594Z",
     "start_time": "2023-02-14T16:33:28.413690Z"
    }
   },
   "outputs": [
    {
     "name": "stdout",
     "output_type": "stream",
     "text": [
      "Evaluate comparisons of heapsort for n = 8\n"
     ]
    },
    {
     "name": "stderr",
     "output_type": "stream",
     "text": [
      "100%|██████████| 100/100 [00:03<00:00, 31.23it/s]\n"
     ]
    },
    {
     "name": "stdout",
     "output_type": "stream",
     "text": [
      "Evaluate comparisons of quicksort for n = 8\n"
     ]
    },
    {
     "name": "stderr",
     "output_type": "stream",
     "text": [
      "100%|██████████| 100/100 [00:00<00:00, 2021.14it/s]\n"
     ]
    },
    {
     "name": "stdout",
     "output_type": "stream",
     "text": [
      "Evaluate comparisons of corsort_drift_max_spaced for n = 8\n"
     ]
    },
    {
     "name": "stderr",
     "output_type": "stream",
     "text": [
      "100%|██████████| 100/100 [00:04<00:00, 22.43it/s]\n"
     ]
    },
    {
     "name": "stdout",
     "output_type": "stream",
     "text": [
      "Evaluate comparisons of mergesort_dfs for n = 8\n"
     ]
    },
    {
     "name": "stderr",
     "output_type": "stream",
     "text": [
      "100%|██████████| 100/100 [00:00<00:00, 1899.51it/s]\n"
     ]
    },
    {
     "name": "stdout",
     "output_type": "stream",
     "text": [
      "Evaluate comparisons of ford_johnson for n = 8\n"
     ]
    },
    {
     "name": "stderr",
     "output_type": "stream",
     "text": [
      "100%|██████████| 100/100 [00:00<00:00, 2491.88it/s]\n"
     ]
    },
    {
     "name": "stdout",
     "output_type": "stream",
     "text": [
      "Evaluate comparisons of heapsort for n = 16\n"
     ]
    },
    {
     "name": "stderr",
     "output_type": "stream",
     "text": [
      "100%|██████████| 100/100 [00:00<00:00, 930.74it/s]\n"
     ]
    },
    {
     "name": "stdout",
     "output_type": "stream",
     "text": [
      "Evaluate comparisons of quicksort for n = 16\n"
     ]
    },
    {
     "name": "stderr",
     "output_type": "stream",
     "text": [
      "100%|██████████| 100/100 [00:00<00:00, 2144.56it/s]\n"
     ]
    },
    {
     "name": "stdout",
     "output_type": "stream",
     "text": [
      "Evaluate comparisons of corsort_drift_max_spaced for n = 16\n"
     ]
    },
    {
     "name": "stderr",
     "output_type": "stream",
     "text": [
      "100%|██████████| 100/100 [00:00<00:00, 850.86it/s]\n"
     ]
    },
    {
     "name": "stdout",
     "output_type": "stream",
     "text": [
      "Evaluate comparisons of mergesort_dfs for n = 16\n"
     ]
    },
    {
     "name": "stderr",
     "output_type": "stream",
     "text": [
      "100%|██████████| 100/100 [00:00<00:00, 2498.75it/s]\n"
     ]
    },
    {
     "name": "stdout",
     "output_type": "stream",
     "text": [
      "Evaluate comparisons of ford_johnson for n = 16\n"
     ]
    },
    {
     "name": "stderr",
     "output_type": "stream",
     "text": [
      "100%|██████████| 100/100 [00:00<00:00, 2560.53it/s]\n"
     ]
    },
    {
     "name": "stdout",
     "output_type": "stream",
     "text": [
      "Evaluate comparisons of heapsort for n = 32\n"
     ]
    },
    {
     "name": "stderr",
     "output_type": "stream",
     "text": [
      "100%|██████████| 100/100 [00:00<00:00, 783.34it/s]\n"
     ]
    },
    {
     "name": "stdout",
     "output_type": "stream",
     "text": [
      "Evaluate comparisons of quicksort for n = 32\n"
     ]
    },
    {
     "name": "stderr",
     "output_type": "stream",
     "text": [
      "100%|██████████| 100/100 [00:00<00:00, 2442.25it/s]\n"
     ]
    },
    {
     "name": "stdout",
     "output_type": "stream",
     "text": [
      "Evaluate comparisons of corsort_drift_max_spaced for n = 32\n"
     ]
    },
    {
     "name": "stderr",
     "output_type": "stream",
     "text": [
      "100%|██████████| 100/100 [00:00<00:00, 730.45it/s]\n"
     ]
    },
    {
     "name": "stdout",
     "output_type": "stream",
     "text": [
      "Evaluate comparisons of mergesort_dfs for n = 32\n"
     ]
    },
    {
     "name": "stderr",
     "output_type": "stream",
     "text": [
      "100%|██████████| 100/100 [00:00<00:00, 2098.90it/s]\n"
     ]
    },
    {
     "name": "stdout",
     "output_type": "stream",
     "text": [
      "Evaluate comparisons of ford_johnson for n = 32\n"
     ]
    },
    {
     "name": "stderr",
     "output_type": "stream",
     "text": [
      "100%|██████████| 100/100 [00:00<00:00, 1991.26it/s]\n"
     ]
    },
    {
     "name": "stdout",
     "output_type": "stream",
     "text": [
      "Evaluate comparisons of heapsort for n = 64\n"
     ]
    },
    {
     "name": "stderr",
     "output_type": "stream",
     "text": [
      "100%|██████████| 100/100 [00:00<00:00, 855.33it/s]\n"
     ]
    },
    {
     "name": "stdout",
     "output_type": "stream",
     "text": [
      "Evaluate comparisons of quicksort for n = 64\n"
     ]
    },
    {
     "name": "stderr",
     "output_type": "stream",
     "text": [
      "100%|██████████| 100/100 [00:00<00:00, 2206.22it/s]\n"
     ]
    },
    {
     "name": "stdout",
     "output_type": "stream",
     "text": [
      "Evaluate comparisons of corsort_drift_max_spaced for n = 64\n"
     ]
    },
    {
     "name": "stderr",
     "output_type": "stream",
     "text": [
      "100%|██████████| 100/100 [00:00<00:00, 861.19it/s]\n"
     ]
    },
    {
     "name": "stdout",
     "output_type": "stream",
     "text": [
      "Evaluate comparisons of mergesort_dfs for n = 64\n"
     ]
    },
    {
     "name": "stderr",
     "output_type": "stream",
     "text": [
      "100%|██████████| 100/100 [00:00<00:00, 1817.28it/s]\n"
     ]
    },
    {
     "name": "stdout",
     "output_type": "stream",
     "text": [
      "Evaluate comparisons of ford_johnson for n = 64\n"
     ]
    },
    {
     "name": "stderr",
     "output_type": "stream",
     "text": [
      "100%|██████████| 100/100 [00:00<00:00, 2102.90it/s]\n"
     ]
    },
    {
     "name": "stdout",
     "output_type": "stream",
     "text": [
      "Evaluate comparisons of heapsort for n = 128\n"
     ]
    },
    {
     "name": "stderr",
     "output_type": "stream",
     "text": [
      "100%|██████████| 100/100 [00:00<00:00, 790.09it/s]\n"
     ]
    },
    {
     "name": "stdout",
     "output_type": "stream",
     "text": [
      "Evaluate comparisons of quicksort for n = 128\n"
     ]
    },
    {
     "name": "stderr",
     "output_type": "stream",
     "text": [
      "100%|██████████| 100/100 [00:00<00:00, 712.16it/s]\n"
     ]
    },
    {
     "name": "stdout",
     "output_type": "stream",
     "text": [
      "Evaluate comparisons of corsort_drift_max_spaced for n = 128\n"
     ]
    },
    {
     "name": "stderr",
     "output_type": "stream",
     "text": [
      "100%|██████████| 100/100 [00:00<00:00, 606.36it/s]"
     ]
    },
    {
     "name": "stdout",
     "output_type": "stream",
     "text": [
      "Evaluate comparisons of mergesort_dfs for n = 128\n"
     ]
    },
    {
     "name": "stderr",
     "output_type": "stream",
     "text": [
      "\n",
      "100%|██████████| 100/100 [00:00<00:00, 571.66it/s]\n"
     ]
    },
    {
     "name": "stdout",
     "output_type": "stream",
     "text": [
      "Evaluate comparisons of ford_johnson for n = 128\n"
     ]
    },
    {
     "name": "stderr",
     "output_type": "stream",
     "text": [
      "100%|██████████| 100/100 [00:00<00:00, 1325.86it/s]\n"
     ]
    },
    {
     "name": "stdout",
     "output_type": "stream",
     "text": [
      "Evaluate comparisons of heapsort for n = 256\n"
     ]
    },
    {
     "name": "stderr",
     "output_type": "stream",
     "text": [
      "100%|██████████| 100/100 [00:00<00:00, 534.04it/s]\n"
     ]
    },
    {
     "name": "stdout",
     "output_type": "stream",
     "text": [
      "Evaluate comparisons of quicksort for n = 256\n"
     ]
    },
    {
     "name": "stderr",
     "output_type": "stream",
     "text": [
      "100%|██████████| 100/100 [00:00<00:00, 265.95it/s]\n"
     ]
    },
    {
     "name": "stdout",
     "output_type": "stream",
     "text": [
      "Evaluate comparisons of corsort_drift_max_spaced for n = 256\n"
     ]
    },
    {
     "name": "stderr",
     "output_type": "stream",
     "text": [
      "100%|██████████| 100/100 [00:00<00:00, 149.27it/s]\n"
     ]
    },
    {
     "name": "stdout",
     "output_type": "stream",
     "text": [
      "Evaluate comparisons of mergesort_dfs for n = 256\n"
     ]
    },
    {
     "name": "stderr",
     "output_type": "stream",
     "text": [
      "100%|██████████| 100/100 [00:00<00:00, 217.84it/s]\n"
     ]
    },
    {
     "name": "stdout",
     "output_type": "stream",
     "text": [
      "Evaluate comparisons of ford_johnson for n = 256\n"
     ]
    },
    {
     "name": "stderr",
     "output_type": "stream",
     "text": [
      "100%|██████████| 100/100 [00:00<00:00, 569.17it/s]\n"
     ]
    },
    {
     "name": "stdout",
     "output_type": "stream",
     "text": [
      "Evaluate comparisons of heapsort for n = 512\n"
     ]
    },
    {
     "name": "stderr",
     "output_type": "stream",
     "text": [
      "100%|██████████| 100/100 [00:00<00:00, 249.48it/s]\n"
     ]
    },
    {
     "name": "stdout",
     "output_type": "stream",
     "text": [
      "Evaluate comparisons of quicksort for n = 512\n"
     ]
    },
    {
     "name": "stderr",
     "output_type": "stream",
     "text": [
      "100%|██████████| 100/100 [00:00<00:00, 114.65it/s]\n"
     ]
    },
    {
     "name": "stdout",
     "output_type": "stream",
     "text": [
      "Evaluate comparisons of corsort_drift_max_spaced for n = 512\n"
     ]
    },
    {
     "name": "stderr",
     "output_type": "stream",
     "text": [
      "100%|██████████| 100/100 [00:05<00:00, 18.07it/s]\n"
     ]
    },
    {
     "name": "stdout",
     "output_type": "stream",
     "text": [
      "Evaluate comparisons of mergesort_dfs for n = 512\n"
     ]
    },
    {
     "name": "stderr",
     "output_type": "stream",
     "text": [
      "100%|██████████| 100/100 [00:01<00:00, 88.81it/s]\n"
     ]
    },
    {
     "name": "stdout",
     "output_type": "stream",
     "text": [
      "Evaluate comparisons of ford_johnson for n = 512\n"
     ]
    },
    {
     "name": "stderr",
     "output_type": "stream",
     "text": [
      "100%|██████████| 100/100 [00:00<00:00, 231.70it/s]\n"
     ]
    },
    {
     "name": "stdout",
     "output_type": "stream",
     "text": [
      "Evaluate comparisons of heapsort for n = 1024\n"
     ]
    },
    {
     "name": "stderr",
     "output_type": "stream",
     "text": [
      "100%|██████████| 100/100 [00:01<00:00, 83.40it/s]\n"
     ]
    },
    {
     "name": "stdout",
     "output_type": "stream",
     "text": [
      "Evaluate comparisons of quicksort for n = 1024\n"
     ]
    },
    {
     "name": "stderr",
     "output_type": "stream",
     "text": [
      "100%|██████████| 100/100 [00:02<00:00, 48.27it/s]\n"
     ]
    },
    {
     "name": "stdout",
     "output_type": "stream",
     "text": [
      "Evaluate comparisons of corsort_drift_max_spaced for n = 1024\n"
     ]
    },
    {
     "name": "stderr",
     "output_type": "stream",
     "text": [
      "100%|██████████| 100/100 [00:49<00:00,  2.04it/s]\n"
     ]
    },
    {
     "name": "stdout",
     "output_type": "stream",
     "text": [
      "Evaluate comparisons of mergesort_dfs for n = 1024\n"
     ]
    },
    {
     "name": "stderr",
     "output_type": "stream",
     "text": [
      "100%|██████████| 100/100 [00:02<00:00, 38.68it/s]\n"
     ]
    },
    {
     "name": "stdout",
     "output_type": "stream",
     "text": [
      "Evaluate comparisons of ford_johnson for n = 1024\n"
     ]
    },
    {
     "name": "stderr",
     "output_type": "stream",
     "text": [
      "100%|██████████| 100/100 [00:00<00:00, 102.84it/s]\n"
     ]
    }
   ],
   "source": [
    "with Pool() as p:\n",
    "    comparisons = evaluate_comparisons(n_list=n_list, sort_list=sort_list, nt=n_t, pool=p)"
   ]
  },
  {
   "cell_type": "markdown",
   "id": "f4a895b3",
   "metadata": {},
   "source": [
    "Then we display the results."
   ]
  },
  {
   "cell_type": "code",
   "execution_count": 5,
   "id": "77b5e814",
   "metadata": {
    "ExecuteTime": {
     "end_time": "2023-02-14T16:35:23.528491Z",
     "start_time": "2023-02-14T16:35:23.044013Z"
    }
   },
   "outputs": [
    {
     "data": {
      "image/png": "[encoded data removed]",
      "text/plain": [
       "<Figure size 1080x720 with 1 Axes>"
      ]
     },
     "metadata": {
      "needs_background": "light"
     },
     "output_type": "display_data"
    }
   ],
   "source": [
    "fig = plt.figure(figsize=(15, 10))\n",
    "ax = plt.axes()\n",
    "ax.set_xscale(\"log\")\n",
    "color_dict = auto_colors(sort_list)\n",
    "\n",
    "for name, stats in comparisons.items():\n",
    "    color = color_dict[name]\n",
    "    n_list = [n for n in stats]\n",
    "    bounds = np.array([entropy_bound(n) for n in n_list])\n",
    "    times = stats.values()\n",
    "    q = np.zeros((5, len(times)), dtype=int)\n",
    "    for i, per in enumerate([2.5, 25, 50, 75, 97.5]):\n",
    "        for j, s in enumerate(times):\n",
    "            q[i, j] = np.percentile(s, per)\n",
    "    q = 100*(q/bounds-1)\n",
    "    ax.plot(n_list, q[2, :], marker='.', label=name, color=color)\n",
    "    ax.fill_between(n_list, q[1, :], q[3, :], alpha=.4, color=color)\n",
    "    ax.fill_between(n_list, q[0, :], q[4, :], alpha=.2, color=color)\n",
    "\n",
    "ax.legend(loc=0)\n",
    "ax.tick_params(labelright=True, right=True)\n",
    "plt.ylabel('Relative overhead (%)')\n",
    "plt.xlabel('$n$')\n",
    "plt.ylim([0, 100])\n",
    "plt.xlim([8, 1024])\n",
    "plt.show()"
   ]
  }
 ],
 "metadata": {
  "kernelspec": {
   "display_name": "Python 3 (ipykernel)",
   "language": "python",
   "name": "python3"
  },
  "language_info": {
   "codemirror_mode": {
    "name": "ipython",
    "version": 3
   },
   "file_extension": ".py",
   "mimetype": "text/x-python",
   "name": "python",
   "nbconvert_exporter": "python",
   "pygments_lexer": "ipython3",
   "version": "3.9.7"
  },
  "toc": {
   "base_numbering": 1,
   "nav_menu": {},
   "number_sections": true,
   "sideBar": true,
   "skip_h1_title": true,
   "title_cell": "Table of Contents",
   "title_sidebar": "Contents",
   "toc_cell": false,
   "toc_position": {},
   "toc_section_display": true,
   "toc_window_display": false
  }
 },
 "nbformat": 4,
 "nbformat_minor": 5
}
