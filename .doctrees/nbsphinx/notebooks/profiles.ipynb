{
 "cells": [
  {
   "cell_type": "markdown",
   "id": "a192e323",
   "metadata": {},
   "source": [
    "# Performance profiles"
   ]
  },
  {
   "cell_type": "markdown",
   "id": "eee28021",
   "metadata": {},
   "source": [
    "This notebook shows how to use the `corsort` package to determine the average termination time of several sorting algorithms.\n",
    "\n",
    "Here the following sorts will be compared:\n",
    "\n",
    "- Mergesort\n",
    "- Ford-Johnson $\\rho$\n",
    "- Quicksort\n",
    "- ASort $\\rho$\n",
    "- Mergesort BFS $\\rho$\n",
    "- Corsort $\\rho$"
   ]
  },
  {
   "cell_type": "markdown",
   "id": "4027db4e",
   "metadata": {},
   "source": [
    "First we load some packages."
   ]
  },
  {
   "cell_type": "code",
   "execution_count": 1,
   "id": "473f027b",
   "metadata": {
    "ExecuteTime": {
     "end_time": "2023-02-14T16:12:45.940569Z",
     "start_time": "2023-02-14T16:12:44.252023Z"
    }
   },
   "outputs": [],
   "source": [
    "import numpy as np\n",
    "from matplotlib import pyplot as plt\n",
    "from multiprocess.pool import Pool\n",
    "\n",
    "from corsort import (\n",
    "    evaluate_convergence, auto_colors,\n",
    "    SortFordJohnson, SortMergeBfs, SortMergeDfs, SortAsortQuickselect, SortLargestInterval, SortQuick,\n",
    "    WrapSortScorer, scorer_spaced,\n",
    "    WrapFullJit, jit_corsort_drift_max_spaced,\n",
    ")"
   ]
  },
  {
   "cell_type": "markdown",
   "id": "b2e77a64",
   "metadata": {},
   "source": [
    "We populate the list of sorts we want to study. As we consider profiles, the scorer used matters (here $\\rho$ is the main external scorer)."
   ]
  },
  {
   "cell_type": "code",
   "execution_count": 2,
   "id": "8a4a813c",
   "metadata": {
    "ExecuteTime": {
     "end_time": "2023-02-14T16:12:45.955240Z",
     "start_time": "2023-02-14T16:12:45.943198Z"
    }
   },
   "outputs": [],
   "source": [
    "sort_list = [\n",
    "    SortMergeDfs(compute_history=True),\n",
    "    WrapSortScorer(scorer=scorer_spaced, sort=SortFordJohnson(), compute_history=True),\n",
    "    SortQuick(compute_history=True),\n",
    "    WrapSortScorer(scorer=scorer_spaced, sort=SortAsortQuickselect(), compute_history=True),\n",
    "    WrapSortScorer(scorer=scorer_spaced, sort=SortMergeBfs(), compute_history=True),\n",
    "    WrapFullJit(jit_corsort_drift_max_spaced, compute_history=True)]"
   ]
  },
  {
   "cell_type": "markdown",
   "id": "fe34612b",
   "metadata": {},
   "source": [
    "We decide the value of $n$ to study and the number of trials. For this notebook, we limit to $100$ trials but for better quality 10,000 is recommended (takes a bit more time)."
   ]
  },
  {
   "cell_type": "code",
   "execution_count": 3,
   "id": "e67a6122",
   "metadata": {
    "ExecuteTime": {
     "end_time": "2023-02-14T16:12:45.971333Z",
     "start_time": "2023-02-14T16:12:45.958640Z"
    }
   },
   "outputs": [],
   "source": [
    "n = 1000\n",
    "nt = 100"
   ]
  },
  {
   "cell_type": "markdown",
   "id": "c7e9dee6",
   "metadata": {},
   "source": [
    "We now run the experiments, with some multi-processing to speed-up things."
   ]
  },
  {
   "cell_type": "code",
   "execution_count": 4,
   "id": "57adaad5",
   "metadata": {
    "ExecuteTime": {
     "end_time": "2023-02-14T16:12:55.129535Z",
     "start_time": "2023-02-14T16:12:45.973483Z"
    }
   },
   "outputs": [
    {
     "name": "stdout",
     "output_type": "stream",
     "text": [
      "Evaluate convergence of mergesort_dfs for n = 1000\n"
     ]
    },
    {
     "name": "stderr",
     "output_type": "stream",
     "text": [
      " 20%|████████████████▏                                                                | 20/100 [00:08<00:32,  2.45it/s]\n"
     ]
    },
    {
     "ename": "AttributeError",
     "evalue": "module 'scipy' has no attribute 'stats'",
     "output_type": "error",
     "traceback": [
      "\u001b[1;31m---------------------------------------------------------------------------\u001b[0m",
      "\u001b[1;31mRemoteTraceback\u001b[0m                           Traceback (most recent call last)",
      "\u001b[1;31mRemoteTraceback\u001b[0m: \n\"\"\"\nTraceback (most recent call last):\n  File \"C:\\Users\\fradu\\anaconda3\\lib\\site-packages\\multiprocess\\pool.py\", line 125, in worker\n    result = (True, func(*args, **kwds))\n  File \"c:\\github\\corsort\\corsort\\sort.py\", line 118, in __call__\n    self._call_aux()\n  File \"c:\\github\\corsort\\corsort\\sort_merge_dfs.py\", line 36, in _call_aux\n    _merge_sort_dfs(self.sorted_indices_, lt=self.test_i_lt_j)\n  File \"c:\\github\\corsort\\corsort\\sort_merge_dfs.py\", line 88, in _merge_sort_dfs\n    _merge_sort_dfs(collection, lt, i, middle)\n  File \"c:\\github\\corsort\\corsort\\sort_merge_dfs.py\", line 88, in _merge_sort_dfs\n    _merge_sort_dfs(collection, lt, i, middle)\n  File \"c:\\github\\corsort\\corsort\\sort_merge_dfs.py\", line 88, in _merge_sort_dfs\n    _merge_sort_dfs(collection, lt, i, middle)\n  [Previous line repeated 5 more times]\n  File \"c:\\github\\corsort\\corsort\\sort_merge_dfs.py\", line 89, in _merge_sort_dfs\n    _merge_sort_dfs(collection, lt, middle, j)\n  File \"c:\\github\\corsort\\corsort\\sort_merge_dfs.py\", line 90, in _merge_sort_dfs\n    merge(collection, i, middle, j, lt=lt)\n  File \"c:\\github\\corsort\\corsort\\merge.py\", line 34, in merge\n    if lt(xs[begin_left], xs[begin_right]):\n  File \"c:\\github\\corsort\\corsort\\sort.py\", line 72, in test_i_lt_j\n    self.history_distances_.append(self.distance_to_sorted_array())\n  File \"c:\\github\\corsort\\corsort\\sort_merge_dfs.py\", line 39, in distance_to_sorted_array\n    return distance_to_sorted_array(self.perm_[self.sorted_indices_])\n  File \"c:\\github\\corsort\\corsort\\distance_to_sorted_array.py\", line 51, in distance_to_sorted_array\n    res = scipy.stats.kendalltau(xs, np.arange(n))\nAttributeError: module 'scipy' has no attribute 'stats'\n\"\"\"",
      "\nThe above exception was the direct cause of the following exception:\n",
      "\u001b[1;31mAttributeError\u001b[0m                            Traceback (most recent call last)",
      "\u001b[1;32m~\\AppData\\Local\\Temp/ipykernel_15632/99950439.py\u001b[0m in \u001b[0;36m<module>\u001b[1;34m\u001b[0m\n\u001b[0;32m      1\u001b[0m \u001b[1;32mwith\u001b[0m \u001b[0mPool\u001b[0m\u001b[1;33m(\u001b[0m\u001b[1;33m)\u001b[0m \u001b[1;32mas\u001b[0m \u001b[0mp\u001b[0m\u001b[1;33m:\u001b[0m\u001b[1;33m\u001b[0m\u001b[1;33m\u001b[0m\u001b[0m\n\u001b[1;32m----> 2\u001b[1;33m     \u001b[0mconvergence\u001b[0m \u001b[1;33m=\u001b[0m \u001b[0mevaluate_convergence\u001b[0m\u001b[1;33m(\u001b[0m\u001b[0msort_list\u001b[0m\u001b[1;33m=\u001b[0m\u001b[0msort_list\u001b[0m\u001b[1;33m,\u001b[0m \u001b[0mn\u001b[0m\u001b[1;33m=\u001b[0m\u001b[0mn\u001b[0m\u001b[1;33m,\u001b[0m \u001b[0mnt\u001b[0m\u001b[1;33m=\u001b[0m\u001b[0mnt\u001b[0m\u001b[1;33m,\u001b[0m \u001b[0mpool\u001b[0m\u001b[1;33m=\u001b[0m\u001b[0mp\u001b[0m\u001b[1;33m)\u001b[0m\u001b[1;33m\u001b[0m\u001b[1;33m\u001b[0m\u001b[0m\n\u001b[0m",
      "\u001b[1;32mc:\\github\\corsort\\corsort\\montecarlo.py\u001b[0m in \u001b[0;36mevaluate_convergence\u001b[1;34m(sort_list, n, nt, pool)\u001b[0m\n\u001b[0;32m    161\u001b[0m         \u001b[0mdistances\u001b[0m \u001b[1;33m=\u001b[0m \u001b[1;33m[\u001b[0m\u001b[1;33m]\u001b[0m\u001b[1;33m\u001b[0m\u001b[1;33m\u001b[0m\u001b[0m\n\u001b[0;32m    162\u001b[0m         \u001b[1;32mif\u001b[0m \u001b[0mpool\u001b[0m \u001b[1;32mis\u001b[0m \u001b[1;32mnot\u001b[0m \u001b[1;32mNone\u001b[0m\u001b[1;33m:\u001b[0m\u001b[1;33m\u001b[0m\u001b[1;33m\u001b[0m\u001b[0m\n\u001b[1;32m--> 163\u001b[1;33m             for instant in pool.imap_unordered(sort,\n\u001b[0m\u001b[0;32m    164\u001b[0m                                                tqdm([np.random.permutation(n)\n\u001b[0;32m    165\u001b[0m                                                      for _ in range(nt)])):\n",
      "\u001b[1;32m~\\anaconda3\\lib\\site-packages\\multiprocess\\pool.py\u001b[0m in \u001b[0;36mnext\u001b[1;34m(self, timeout)\u001b[0m\n\u001b[0;32m    868\u001b[0m         \u001b[1;32mif\u001b[0m \u001b[0msuccess\u001b[0m\u001b[1;33m:\u001b[0m\u001b[1;33m\u001b[0m\u001b[1;33m\u001b[0m\u001b[0m\n\u001b[0;32m    869\u001b[0m             \u001b[1;32mreturn\u001b[0m \u001b[0mvalue\u001b[0m\u001b[1;33m\u001b[0m\u001b[1;33m\u001b[0m\u001b[0m\n\u001b[1;32m--> 870\u001b[1;33m         \u001b[1;32mraise\u001b[0m \u001b[0mvalue\u001b[0m\u001b[1;33m\u001b[0m\u001b[1;33m\u001b[0m\u001b[0m\n\u001b[0m\u001b[0;32m    871\u001b[0m \u001b[1;33m\u001b[0m\u001b[0m\n\u001b[0;32m    872\u001b[0m     \u001b[0m__next__\u001b[0m \u001b[1;33m=\u001b[0m \u001b[0mnext\u001b[0m                    \u001b[1;31m# XXX\u001b[0m\u001b[1;33m\u001b[0m\u001b[1;33m\u001b[0m\u001b[0m\n",
      "\u001b[1;31mAttributeError\u001b[0m: module 'scipy' has no attribute 'stats'"
     ]
    }
   ],
   "source": [
    "with Pool() as p:\n",
    "    convergence = evaluate_convergence(sort_list=sort_list, n=n, nt=nt, pool=p)"
   ]
  },
  {
   "cell_type": "markdown",
   "id": "5774b47d",
   "metadata": {},
   "source": [
    "Then we display the results."
   ]
  },
  {
   "cell_type": "code",
   "execution_count": null,
   "id": "c7fd2aac",
   "metadata": {
    "ExecuteTime": {
     "end_time": "2023-02-14T16:12:55.132533Z",
     "start_time": "2023-02-14T16:12:55.132533Z"
    }
   },
   "outputs": [],
   "source": [
    "m = n*(n-1)/2\n",
    "fig = plt.figure(figsize=(15, 10))\n",
    "ax = plt.axes()\n",
    "decim=40\n",
    "color_dict = auto_colors(sort_list)\n",
    "for name, ref in convergence.items():\n",
    "    color = color_dict[name]\n",
    "    p_m = ref.shape[1]\n",
    "    x = np.arange(p_m)[::decim]\n",
    "    ref = ref[:, ::decim]\n",
    "    q = np.zeros((5, ref.shape[1]))\n",
    "    for i, per in enumerate([2.5, 25, 50, 75, 97.5]):\n",
    "        q[i, :] = np.percentile(ref, per, axis=0)\n",
    "    q = q/m\n",
    "    ax.plot(x, q[2, :], label=name, color=color)\n",
    "    ax.fill_between(x, q[1, :], q[3, :], alpha=.4, color=color)\n",
    "    ax.fill_between(x, q[0, :], q[4, :], alpha=.2, color=color)\n",
    "plt.legend()\n",
    "plt.grid()\n",
    "ax.tick_params(labelright=True, right=True)\n",
    "plt.ylabel('Distance to sorted list')\n",
    "plt.xlabel('Comparisons performed')\n",
    "plt.ylim([0, None])\n",
    "plt.xlim([0, 12000])\n",
    "plt.show()"
   ]
  }
 ],
 "metadata": {
  "kernelspec": {
   "display_name": "Python 3 (ipykernel)",
   "language": "python",
   "name": "python3"
  },
  "language_info": {
   "codemirror_mode": {
    "name": "ipython",
    "version": 3
   },
   "file_extension": ".py",
   "mimetype": "text/x-python",
   "name": "python",
   "nbconvert_exporter": "python",
   "pygments_lexer": "ipython3",
   "version": "3.9.7"
  },
  "toc": {
   "base_numbering": 1,
   "nav_menu": {},
   "number_sections": true,
   "sideBar": true,
   "skip_h1_title": true,
   "title_cell": "Table of Contents",
   "title_sidebar": "Contents",
   "toc_cell": false,
   "toc_position": {},
   "toc_section_display": true,
   "toc_window_display": false
  }
 },
 "nbformat": 4,
 "nbformat_minor": 5
}
