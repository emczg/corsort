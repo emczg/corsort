{
 "cells": [
  {
   "cell_type": "markdown",
   "id": "173f3a78",
   "metadata": {},
   "source": [
    "# Example of Corsort execution: LaTeX code"
   ]
  },
  {
   "cell_type": "code",
   "execution_count": 4,
   "id": "1e5bf3e0",
   "metadata": {
    "ExecuteTime": {
     "end_time": "2023-03-14T11:58:16.965150Z",
     "start_time": "2023-03-14T11:58:16.959990Z"
    }
   },
   "outputs": [],
   "source": [
    "import numpy as np\n",
    "from corsort import *"
   ]
  },
  {
   "cell_type": "code",
   "execution_count": 11,
   "id": "7dc03dd6",
   "metadata": {
    "ExecuteTime": {
     "end_time": "2023-03-14T12:39:23.695923Z",
     "start_time": "2023-03-14T12:39:23.684797Z"
    }
   },
   "outputs": [
    {
     "name": "stdout",
     "output_type": "stream",
     "text": [
      "\n",
      "\\begin{tikzpicture}\n",
      "\\def\\interspace{3cm}\n",
      "\\def\\intraspace{.1cm}\n",
      "\\def\\lrgap{1.5cm}\n",
      "\\newcommand{\\execution}[2]{%\n",
      "    \\begin{tikzpicture}[scale=.7, transform shape]\n",
      "        \\foreach \\i/\\d/\\an/\\to/\\s [count=\\x] in {#1}\n",
      "        {\n",
      "            \\node[obj] (\\i) at (\\x, 4*\\an/\\to) {$\\i$};\n",
      "            \\node[above = .0cm of \\i, \\s] {$\\d$};\n",
      "        }\n",
      "        \\foreach \\i/\\j in {#2}{\\draw[<-] (\\i) -- (\\j) ;}\n",
      "    \\end{tikzpicture}%\n",
      "}\n",
      "    \n",
      "\\node[draw] (x0) {$X_0=(25431), \\tau_0=7$};\n",
      "\\node[above = \\intraspace of x0] (x0p) {\\execution{\n",
      "    2/0/1/2/select, \n",
      "    5/0/1/2/select, \n",
      "    4/0/1/2/, \n",
      "    3/0/1/2/, \n",
      "    1/0/1/2/%\n",
      "}{}};\n",
      "\\node[draw, right = \\lrgap of x0] (x1) {$X_1=(24315), \\tau_1=4$};\n",
      "\\node[above = \\intraspace of x1] (x1p) {\\execution{\n",
      "    2/-1/1/3/, \n",
      "    5/1/2/3/, \n",
      "    4/0/1/2/select, \n",
      "    3/0/1/2/select, \n",
      "    1/0/1/2/%\n",
      "}{2/5}};\n",
      "\\node[draw, below = \\interspace of x0] (x2) {$X_2=(23154), \\tau_2=3$};\n",
      "\\node[above = \\intraspace of x2] (x2p) {\\execution{\n",
      "    2/-1/1/3/select, \n",
      "    5/1/2/3/, \n",
      "    4/1/2/3/, \n",
      "    3/-1/1/3/select, \n",
      "    1/0/1/2/%\n",
      "}{2/5, 3/4}};\n",
      "\\node[draw, right = \\lrgap of x2] (x3) {$X_3=(23154), \\tau_3=3$};\n",
      "\\node[above = \\intraspace of x3] (x3p) {\\execution{\n",
      "    2/-3/1/5/, \n",
      "    5/1/2/3/, \n",
      "    4/2/3/4/, \n",
      "    3/0/2/4/select, \n",
      "    1/0/1/2/select%\n",
      "}{2/5, 2/3, 3/4}};\n",
      "\\node[draw, below = \\interspace of x2] (x4) {$X_4=(21354), \\tau_4=3$};\n",
      "\\node[above = \\intraspace of x4] (x4p) {\\execution{\n",
      "    2/-3/1/5/, \n",
      "    5/1/2/3/select, \n",
      "    4/3/4/5/, \n",
      "    3/1/3/5/select, \n",
      "    1/-2/1/4/%\n",
      "}{2/5, 2/3, 3/4, 1/3}};\n",
      "\\node[draw, right = \\lrgap of x4] (x5) {$X_5=(21354), \\tau_5=2$};\n",
      "\\node[above = \\intraspace of x5] (x5p) {\\execution{\n",
      "    2/-3/1/5/select, \n",
      "    5/3/4/5/, \n",
      "    4/3/4/5/, \n",
      "    3/0/3/6/, \n",
      "    1/-3/1/5/select%\n",
      "}{2/3, 3/5, 3/4, 1/3}};\n",
      "\\node[draw, below = \\interspace of x4] (x6) {$X_6=(12354), \\tau_6=1$};\n",
      "\\node[above = \\intraspace of x6] (x6p) {\\execution{\n",
      "    2/-2/2/6/, \n",
      "    5/3/4/5/select, \n",
      "    4/3/4/5/select, \n",
      "    3/0/3/6/, \n",
      "    1/-4/1/6/%\n",
      "}{2/3, 3/5, 3/4, 1/2}};\n",
      "\\node[draw, right = \\lrgap of x6] (x7) {$X_7=(12345), \\tau_7=0$};\n",
      "\\node[above = \\intraspace of x7] (x7p) {\\execution{\n",
      "    2/-2/2/6/, \n",
      "    5/4/5/6/, \n",
      "    4/2/4/6/, \n",
      "    3/0/3/6/, \n",
      "    1/-4/1/6/%\n",
      "}{2/3, 4/5, 3/4, 1/2}};\n",
      "\\end{tikzpicture}\n"
     ]
    }
   ],
   "source": [
    "perm = np.random.permutation(5) + 1\n",
    "print_corsort_execution(perm)"
   ]
  },
  {
   "cell_type": "code",
   "execution_count": null,
   "id": "acb84893",
   "metadata": {},
   "outputs": [],
   "source": []
  }
 ],
 "metadata": {
  "kernelspec": {
   "display_name": "Python 3 (ipykernel)",
   "language": "python",
   "name": "python3"
  },
  "language_info": {
   "codemirror_mode": {
    "name": "ipython",
    "version": 3
   },
   "file_extension": ".py",
   "mimetype": "text/x-python",
   "name": "python",
   "nbconvert_exporter": "python",
   "pygments_lexer": "ipython3",
   "version": "3.9.7"
  },
  "toc": {
   "base_numbering": 1,
   "nav_menu": {},
   "number_sections": true,
   "sideBar": true,
   "skip_h1_title": true,
   "title_cell": "Table of Contents",
   "title_sidebar": "Contents",
   "toc_cell": false,
   "toc_position": {},
   "toc_section_display": true,
   "toc_window_display": false
  }
 },
 "nbformat": 4,
 "nbformat_minor": 5
}
