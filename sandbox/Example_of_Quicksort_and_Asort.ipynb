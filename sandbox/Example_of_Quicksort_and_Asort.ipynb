{
 "cells": [
  {
   "cell_type": "markdown",
   "id": "98192360",
   "metadata": {},
   "source": [
    "# Example of Quicksort and Asort"
   ]
  },
  {
   "cell_type": "code",
   "execution_count": 1,
   "id": "cdfa2dda",
   "metadata": {
    "ExecuteTime": {
     "end_time": "2023-03-21T09:18:44.475386Z",
     "start_time": "2023-03-21T09:18:43.776012Z"
    }
   },
   "outputs": [],
   "source": [
    "import numpy as np\n",
    "from corsort import *"
   ]
  },
  {
   "cell_type": "code",
   "execution_count": 2,
   "id": "8902078f",
   "metadata": {
    "ExecuteTime": {
     "end_time": "2023-03-21T09:18:44.491383Z",
     "start_time": "2023-03-21T09:18:44.477385Z"
    }
   },
   "outputs": [],
   "source": [
    "def is_good_example(perm):\n",
    "    asort = SortAsortQuickselect(compute_history=True)(perm)\n",
    "    qsort = SortQuick(compute_history=True)(perm)\n",
    "    return (asort.history_comparisons_ != qsort.history_comparisons_), asort, qsort"
   ]
  },
  {
   "cell_type": "code",
   "execution_count": 3,
   "id": "9112c78b",
   "metadata": {
    "ExecuteTime": {
     "end_time": "2023-03-21T09:18:44.507384Z",
     "start_time": "2023-03-21T09:18:44.494385Z"
    }
   },
   "outputs": [],
   "source": [
    "def find_example():\n",
    "    while True:\n",
    "        perm = np.random.permutation(7) + 1\n",
    "        is_good, asort, qsort = is_good_example(perm)\n",
    "        if is_good:\n",
    "            return perm, asort, qsort"
   ]
  },
  {
   "cell_type": "code",
   "execution_count": 4,
   "id": "c586fabd",
   "metadata": {
    "ExecuteTime": {
     "end_time": "2023-03-21T09:18:45.119195Z",
     "start_time": "2023-03-21T09:18:44.510488Z"
    }
   },
   "outputs": [
    {
     "name": "stderr",
     "output_type": "stream",
     "text": [
      "<frozen importlib._bootstrap>:228: RuntimeWarning: scipy._lib.messagestream.MessageStream size changed, may indicate binary incompatibility. Expected 56 from C header, got 64 from PyObject\n"
     ]
    },
    {
     "data": {
      "text/plain": [
       "array([3, 1, 5, 2, 4, 7, 6])"
      ]
     },
     "execution_count": 4,
     "metadata": {},
     "output_type": "execute_result"
    }
   ],
   "source": [
    "perm, asort, qsort = find_example()\n",
    "perm"
   ]
  },
  {
   "cell_type": "code",
   "execution_count": 5,
   "id": "59f23bb6",
   "metadata": {
    "ExecuteTime": {
     "end_time": "2023-03-21T09:18:45.135146Z",
     "start_time": "2023-03-21T09:18:45.120208Z"
    }
   },
   "outputs": [
    {
     "data": {
      "text/plain": [
       "[(1, 3),\n",
       " (3, 5),\n",
       " (2, 3),\n",
       " (3, 4),\n",
       " (3, 7),\n",
       " (3, 6),\n",
       " (4, 5),\n",
       " (5, 7),\n",
       " (5, 6),\n",
       " (1, 2),\n",
       " (6, 7)]"
      ]
     },
     "execution_count": 5,
     "metadata": {},
     "output_type": "execute_result"
    }
   ],
   "source": [
    "asort.history_comparisons_values_"
   ]
  },
  {
   "cell_type": "code",
   "execution_count": 6,
   "id": "34e6921d",
   "metadata": {
    "ExecuteTime": {
     "end_time": "2023-03-21T09:18:45.151166Z",
     "start_time": "2023-03-21T09:18:45.136146Z"
    }
   },
   "outputs": [
    {
     "data": {
      "text/plain": [
       "[(1, 3),\n",
       " (3, 5),\n",
       " (2, 3),\n",
       " (3, 4),\n",
       " (3, 7),\n",
       " (3, 6),\n",
       " (1, 2),\n",
       " (4, 5),\n",
       " (5, 7),\n",
       " (5, 6),\n",
       " (6, 7)]"
      ]
     },
     "execution_count": 6,
     "metadata": {},
     "output_type": "execute_result"
    }
   ],
   "source": [
    "qsort.history_comparisons_values_"
   ]
  },
  {
   "cell_type": "code",
   "execution_count": null,
   "id": "e3181ae5",
   "metadata": {},
   "outputs": [],
   "source": []
  }
 ],
 "metadata": {
  "kernelspec": {
   "display_name": "Python 3 (ipykernel)",
   "language": "python",
   "name": "python3"
  },
  "language_info": {
   "codemirror_mode": {
    "name": "ipython",
    "version": 3
   },
   "file_extension": ".py",
   "mimetype": "text/x-python",
   "name": "python",
   "nbconvert_exporter": "python",
   "pygments_lexer": "ipython3",
   "version": "3.9.7"
  },
  "toc": {
   "base_numbering": 1,
   "nav_menu": {},
   "number_sections": true,
   "sideBar": true,
   "skip_h1_title": true,
   "title_cell": "Table of Contents",
   "title_sidebar": "Contents",
   "toc_cell": false,
   "toc_position": {},
   "toc_section_display": true,
   "toc_window_display": false
  }
 },
 "nbformat": 4,
 "nbformat_minor": 5
}
