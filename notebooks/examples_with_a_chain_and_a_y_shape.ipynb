{
 "cells": [
  {
   "cell_type": "markdown",
   "id": "fb9019d3",
   "metadata": {},
   "source": [
    "# Examples with a chain and a Y-shape"
   ]
  },
  {
   "cell_type": "code",
   "execution_count": 1,
   "id": "8b4f287e",
   "metadata": {
    "ExecuteTime": {
     "end_time": "2024-01-18T13:21:14.401710Z",
     "start_time": "2024-01-18T13:21:11.505588Z"
    }
   },
   "outputs": [],
   "source": [
    "import numpy as np\n",
    "from corsort import *"
   ]
  },
  {
   "cell_type": "markdown",
   "id": "d009c0d4",
   "metadata": {},
   "source": [
    "We study configurations of the following form: a chain of $a$ elements, and a Y-shape with $b$ elements on the \"trunk\" and $c$ and $d$ elements (respectively) on the \"branches\". For example:"
   ]
  },
  {
   "cell_type": "code",
   "execution_count": 2,
   "id": "139b076f",
   "metadata": {
    "ExecuteTime": {
     "end_time": "2024-01-18T13:21:14.656308Z",
     "start_time": "2024-01-18T13:21:14.403633Z"
    },
    "scrolled": false
   },
   "outputs": [
    {
     "data": {
      "image/png": "[encoded data removed]",
      "text/plain": [
       "<Figure size 640x480 with 1 Axes>"
      ]
     },
     "metadata": {},
     "output_type": "display_data"
    }
   ],
   "source": [
    "ChainAndY(a=5, b=4, c=2, d=3).draw()"
   ]
  },
  {
   "cell_type": "markdown",
   "id": "0dd9fc9c",
   "metadata": {},
   "source": [
    "## A simple example"
   ]
  },
  {
   "cell_type": "markdown",
   "id": "545b488f",
   "metadata": {},
   "source": [
    "The purpose of this example is to illustrate $\\Delta$, $\\rho$, the median height and the optimal order (minimizing the expected Spearman distance)."
   ]
  },
  {
   "cell_type": "code",
   "execution_count": 3,
   "id": "1f58e281",
   "metadata": {
    "ExecuteTime": {
     "end_time": "2024-01-18T13:21:14.785090Z",
     "start_time": "2024-01-18T13:21:14.656308Z"
    }
   },
   "outputs": [
    {
     "data": {
      "image/png": "[encoded data removed]",
      "text/plain": [
       "<Figure size 640x480 with 1 Axes>"
      ]
     },
     "metadata": {},
     "output_type": "display_data"
    }
   ],
   "source": [
    "poset = ChainAndY(0, 1, 3, 2)\n",
    "poset.draw(with_labels=True, alpha_labels=True)"
   ]
  },
  {
   "cell_type": "code",
   "execution_count": 4,
   "id": "f4f1c5c3",
   "metadata": {
    "ExecuteTime": {
     "end_time": "2024-01-18T13:21:14.793335Z",
     "start_time": "2024-01-18T13:21:14.785090Z"
    }
   },
   "outputs": [
    {
     "data": {
      "text/plain": [
       "array([-5, -1,  1,  3,  0,  2])"
      ]
     },
     "execution_count": 4,
     "metadata": {},
     "output_type": "execute_result"
    }
   ],
   "source": [
    "poset.delta"
   ]
  },
  {
   "cell_type": "code",
   "execution_count": 5,
   "id": "9289e1f1",
   "metadata": {
    "ExecuteTime": {
     "end_time": "2024-01-18T13:21:14.801111Z",
     "start_time": "2024-01-18T13:21:14.795030Z"
    }
   },
   "outputs": [
    {
     "data": {
      "text/plain": [
       "array([Fraction(1, 7), Fraction(2, 5), Fraction(3, 5), Fraction(4, 5),\n",
       "       Fraction(1, 2), Fraction(3, 4)], dtype=object)"
      ]
     },
     "execution_count": 5,
     "metadata": {},
     "output_type": "execute_result"
    }
   ],
   "source": [
    "poset.rho"
   ]
  },
  {
   "cell_type": "code",
   "execution_count": 6,
   "id": "215b9fd0",
   "metadata": {
    "ExecuteTime": {
     "end_time": "2024-01-18T13:21:14.808256Z",
     "start_time": "2024-01-18T13:21:14.801111Z"
    }
   },
   "outputs": [
    {
     "data": {
      "text/plain": [
       "array([0., 1., 3., 5., 2., 4.])"
      ]
     },
     "execution_count": 6,
     "metadata": {},
     "output_type": "execute_result"
    }
   ],
   "source": [
    "poset.median_height"
   ]
  },
  {
   "cell_type": "code",
   "execution_count": 7,
   "id": "903277c2",
   "metadata": {
    "ExecuteTime": {
     "end_time": "2024-01-18T13:21:14.816650Z",
     "start_time": "2024-01-18T13:21:14.810873Z"
    }
   },
   "outputs": [
    {
     "name": "stdout",
     "output_type": "stream",
     "text": [
      "(abecfd)\n"
     ]
    }
   ],
   "source": [
    "print_order_as_letters(poset.order_delta)"
   ]
  },
  {
   "cell_type": "code",
   "execution_count": 8,
   "id": "330f08e1",
   "metadata": {
    "ExecuteTime": {
     "end_time": "2024-01-18T13:21:14.824401Z",
     "start_time": "2024-01-18T13:21:14.818158Z"
    }
   },
   "outputs": [
    {
     "name": "stdout",
     "output_type": "stream",
     "text": [
      "(abecfd)\n"
     ]
    }
   ],
   "source": [
    "print_order_as_letters(poset.order_rho)"
   ]
  },
  {
   "cell_type": "code",
   "execution_count": 9,
   "id": "85ffe1e6",
   "metadata": {
    "ExecuteTime": {
     "end_time": "2024-01-18T13:21:14.834274Z",
     "start_time": "2024-01-18T13:21:14.824401Z"
    }
   },
   "outputs": [
    {
     "name": "stdout",
     "output_type": "stream",
     "text": [
      "(abecfd)\n"
     ]
    }
   ],
   "source": [
    "print_order_as_letters(poset.order_median_height)"
   ]
  },
  {
   "cell_type": "code",
   "execution_count": 10,
   "id": "4b0c077e",
   "metadata": {
    "ExecuteTime": {
     "end_time": "2024-01-18T13:21:14.842590Z",
     "start_time": "2024-01-18T13:21:14.834274Z"
    }
   },
   "outputs": [
    {
     "name": "stdout",
     "output_type": "stream",
     "text": [
      "(abecfd)\n"
     ]
    }
   ],
   "source": [
    "print_order_as_letters(poset.order_spearman_optimal)"
   ]
  },
  {
   "cell_type": "markdown",
   "id": "a099df25",
   "metadata": {},
   "source": [
    "## Looking for a more complex example"
   ]
  },
  {
   "cell_type": "markdown",
   "id": "c90b1259",
   "metadata": {},
   "source": [
    "We are now looking for an example where the estimators $\\Delta$, $\\rho$ and the median height all yield distinct orderings. We will also impose that there is no tie in these estimators, so that there is no ambiguity when ordering the nodes according to them. A side effect of this decision is that `order_median_height` is optimal, i.e. it is the same as `order_spearman_optimal`."
   ]
  },
  {
   "cell_type": "code",
   "execution_count": 11,
   "id": "6fabb315",
   "metadata": {
    "ExecuteTime": {
     "end_time": "2024-01-18T13:21:14.850872Z",
     "start_time": "2024-01-18T13:21:14.842590Z"
    }
   },
   "outputs": [],
   "source": [
    "def is_good_example(a, b, c, d):\n",
    "    poset = ChainAndY(a, b, c, d)\n",
    "    n_nodes = poset.n_nodes\n",
    "    # Non degenerate example\n",
    "    if min(a, b, c, d) == 0:\n",
    "        return False\n",
    "    # rho\n",
    "    rho = poset.rho\n",
    "    if len(set(rho)) < n_nodes:  # Tie in rho\n",
    "        return False\n",
    "    # delta\n",
    "    delta = poset.delta\n",
    "    if len(set(delta)) < n_nodes:  # Tie in delta\n",
    "        return False\n",
    "    order_rho = poset.order_rho\n",
    "    order_delta = poset.order_delta\n",
    "    if np.array_equal(order_rho, order_delta):  # rho and delta agree\n",
    "        return False\n",
    "    # Median height\n",
    "    median_height = poset.median_height\n",
    "    if len(set(median_height)) < n_nodes:  # Tie in m\n",
    "        return False\n",
    "    order_median_height = poset.order_median_height\n",
    "    if np.array_equal(order_median_height, order_rho):  # m and rho agree\n",
    "        return False\n",
    "    if np.array_equal(order_median_height, order_delta):  # m and delta agree\n",
    "        return False\n",
    "    return True"
   ]
  },
  {
   "cell_type": "code",
   "execution_count": 12,
   "id": "64adbad8",
   "metadata": {
    "ExecuteTime": {
     "end_time": "2024-01-18T13:21:14.857220Z",
     "start_time": "2024-01-18T13:21:14.852390Z"
    }
   },
   "outputs": [],
   "source": [
    "def find_minimal_example():\n",
    "    n_nodes = 0\n",
    "    results = []\n",
    "    found = False\n",
    "    while not found:\n",
    "        n_nodes += 1\n",
    "        print(f\"Testing {n_nodes=}...\")\n",
    "        for a in range(n_nodes + 1):\n",
    "            for b in range(n_nodes - a + 1):\n",
    "                remains = n_nodes - a - b\n",
    "                for c in range(remains // 2 + 1):\n",
    "                    d = n_nodes - a - b - c\n",
    "                    # print(f\"Testing {a=}, {b=}, {c=}, {d=}...\")\n",
    "                    if is_good_example(a, b, c, d):\n",
    "                        results.append((a, b, c, d))\n",
    "                        found = True\n",
    "    return results"
   ]
  },
  {
   "cell_type": "code",
   "execution_count": 13,
   "id": "b65ce146",
   "metadata": {
    "ExecuteTime": {
     "end_time": "2024-01-18T13:21:15.099332Z",
     "start_time": "2024-01-18T13:21:14.857220Z"
    },
    "scrolled": false
   },
   "outputs": [
    {
     "name": "stdout",
     "output_type": "stream",
     "text": [
      "Testing n_nodes=1...\n",
      "Testing n_nodes=2...\n",
      "Testing n_nodes=3...\n",
      "Testing n_nodes=4...\n",
      "Testing n_nodes=5...\n",
      "Testing n_nodes=6...\n",
      "Testing n_nodes=7...\n",
      "Testing n_nodes=8...\n",
      "Testing n_nodes=9...\n",
      "Testing n_nodes=10...\n",
      "Testing n_nodes=11...\n",
      "Testing n_nodes=12...\n",
      "Testing n_nodes=13...\n",
      "Testing n_nodes=14...\n",
      "Testing n_nodes=15...\n",
      "Testing n_nodes=16...\n",
      "Testing n_nodes=17...\n"
     ]
    }
   ],
   "source": [
    "results = find_minimal_example()"
   ]
  },
  {
   "cell_type": "code",
   "execution_count": 14,
   "id": "c6a3cf8c",
   "metadata": {
    "ExecuteTime": {
     "end_time": "2024-01-18T13:21:15.107121Z",
     "start_time": "2024-01-18T13:21:15.099332Z"
    }
   },
   "outputs": [
    {
     "data": {
      "text/plain": [
       "[(2, 12, 1, 2)]"
      ]
     },
     "execution_count": 14,
     "metadata": {},
     "output_type": "execute_result"
    }
   ],
   "source": [
    "results"
   ]
  },
  {
   "cell_type": "code",
   "execution_count": 15,
   "id": "99e86463",
   "metadata": {
    "ExecuteTime": {
     "end_time": "2024-01-18T13:21:15.327814Z",
     "start_time": "2024-01-18T13:21:15.107121Z"
    }
   },
   "outputs": [
    {
     "data": {
      "image/png": "[encoded data removed]",
      "text/plain": [
       "<Figure size 640x480 with 1 Axes>"
      ]
     },
     "metadata": {},
     "output_type": "display_data"
    }
   ],
   "source": [
    "poset = ChainAndY(*results[0])\n",
    "poset.draw(with_labels=True, alpha_labels=True)"
   ]
  },
  {
   "cell_type": "code",
   "execution_count": 16,
   "id": "f3458f27",
   "metadata": {
    "ExecuteTime": {
     "end_time": "2024-01-18T13:21:15.337045Z",
     "start_time": "2024-01-18T13:21:15.327814Z"
    }
   },
   "outputs": [
    {
     "name": "stdout",
     "output_type": "stream",
     "text": [
      "delta\n",
      "[ 2  3  4  5  6  7  8  0  9  1 10 11 12 13 15 14 16]\n",
      "(cdefghiajbklmnpoq)\n",
      "16.161764705882355\n",
      "\n",
      "rho\n",
      "[ 2  3  4  5  6  0  7  8  9 10 11  1 12 13 15 14 16]\n",
      "(cdefgahijklbmnpoq)\n",
      "14.044117647058824\n",
      "\n",
      "median_height\n",
      "[ 2  3  4  5  0  6  7  8  9 10 11 12  1 13 15 14 16]\n",
      "(cdefaghijklmbnpoq)\n",
      "13.926470588235295\n",
      "\n",
      "spearman_optimal\n",
      "[ 2  3  4  5  0  6  7  8  9 10 11 12  1 13 15 14 16]\n",
      "(cdefaghijklmbnpoq)\n",
      "13.926470588235295\n",
      "\n"
     ]
    }
   ],
   "source": [
    "for criterion in ['delta', 'rho', 'median_height', 'spearman_optimal']:\n",
    "    print(criterion)\n",
    "    order = getattr(poset, f'order_{criterion}')\n",
    "    print(order)\n",
    "    print_order_as_letters(order)\n",
    "    print(poset.spearman_score(order))\n",
    "    print()"
   ]
  },
  {
   "cell_type": "code",
   "execution_count": 17,
   "id": "2b5127a9",
   "metadata": {
    "ExecuteTime": {
     "end_time": "2024-01-18T13:21:15.345535Z",
     "start_time": "2024-01-18T13:21:15.337045Z"
    }
   },
   "outputs": [
    {
     "data": {
      "text/plain": [
       "array([ -1,   1, -14, -12, -10,  -8,  -6,  -4,  -2,   0,   2,   4,   6,\n",
       "         8,  12,  11,  13])"
      ]
     },
     "execution_count": 17,
     "metadata": {},
     "output_type": "execute_result"
    }
   ],
   "source": [
    "poset.delta"
   ]
  },
  {
   "cell_type": "code",
   "execution_count": 18,
   "id": "9353b297",
   "metadata": {
    "ExecuteTime": {
     "end_time": "2024-01-18T13:21:15.353082Z",
     "start_time": "2024-01-18T13:21:15.345535Z"
    }
   },
   "outputs": [
    {
     "data": {
      "text/plain": [
       "array([Fraction(1, 3), Fraction(2, 3), Fraction(1, 16), Fraction(1, 8),\n",
       "       Fraction(3, 16), Fraction(1, 4), Fraction(5, 16), Fraction(3, 8),\n",
       "       Fraction(7, 16), Fraction(1, 2), Fraction(9, 16), Fraction(5, 8),\n",
       "       Fraction(11, 16), Fraction(3, 4), Fraction(13, 14),\n",
       "       Fraction(13, 15), Fraction(14, 15)], dtype=object)"
      ]
     },
     "execution_count": 18,
     "metadata": {},
     "output_type": "execute_result"
    }
   ],
   "source": [
    "poset.rho"
   ]
  },
  {
   "cell_type": "code",
   "execution_count": 19,
   "id": "07197eea",
   "metadata": {
    "ExecuteTime": {
     "end_time": "2024-01-18T13:21:15.359874Z",
     "start_time": "2024-01-18T13:21:15.353082Z"
    }
   },
   "outputs": [
    {
     "data": {
      "text/plain": [
       "array([ 4., 12.,  0.,  1.,  2.,  3.,  5.,  6.,  7.,  8.,  9., 10., 11.,\n",
       "       13., 15., 14., 16.])"
      ]
     },
     "execution_count": 19,
     "metadata": {},
     "output_type": "execute_result"
    }
   ],
   "source": [
    "poset.median_height"
   ]
  }
 ],
 "metadata": {
  "kernelspec": {
   "display_name": "Python 3 (ipykernel)",
   "language": "python",
   "name": "python3"
  },
  "language_info": {
   "codemirror_mode": {
    "name": "ipython",
    "version": 3
   },
   "file_extension": ".py",
   "mimetype": "text/x-python",
   "name": "python",
   "nbconvert_exporter": "python",
   "pygments_lexer": "ipython3",
   "version": "3.11.5"
  },
  "toc": {
   "base_numbering": 1,
   "nav_menu": {},
   "number_sections": true,
   "sideBar": true,
   "skip_h1_title": true,
   "title_cell": "Table of Contents",
   "title_sidebar": "Contents",
   "toc_cell": false,
   "toc_position": {},
   "toc_section_display": true,
   "toc_window_display": false
  }
 },
 "nbformat": 4,
 "nbformat_minor": 5
}
