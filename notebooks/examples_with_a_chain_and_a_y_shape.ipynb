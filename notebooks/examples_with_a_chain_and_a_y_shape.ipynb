{
 "cells": [
  {
   "cell_type": "markdown",
   "id": "fb9019d3",
   "metadata": {},
   "source": [
    "# Examples with a chain and a Y-shape"
   ]
  },
  {
   "cell_type": "code",
   "execution_count": 1,
   "id": "8b4f287e",
   "metadata": {
    "ExecuteTime": {
     "end_time": "2023-05-23T23:48:29.049399Z",
     "start_time": "2023-05-23T23:48:20.604704Z"
    }
   },
   "outputs": [],
   "source": [
    "import numpy as np\n",
    "from corsort import *"
   ]
  },
  {
   "cell_type": "markdown",
   "id": "d009c0d4",
   "metadata": {},
   "source": [
    "We study configurations of the following form: a chain of $a$ elements, and a Y-shape with $b$ elements on the \"trunk\" and $c$ and $d$ elements (respectively) on the \"branches\". For example:"
   ]
  },
  {
   "cell_type": "code",
   "execution_count": 2,
   "id": "139b076f",
   "metadata": {
    "ExecuteTime": {
     "end_time": "2023-05-23T23:48:29.784873Z",
     "start_time": "2023-05-23T23:48:29.061420Z"
    },
    "scrolled": true
   },
   "outputs": [
    {
     "data": {
      "image/png": "[encoded data removed]",
      "text/plain": [
       "<Figure size 640x480 with 1 Axes>"
      ]
     },
     "metadata": {},
     "output_type": "display_data"
    }
   ],
   "source": [
    "ChainAndY(a=5, b=4, c=2, d=3).draw()"
   ]
  },
  {
   "cell_type": "markdown",
   "id": "0dd9fc9c",
   "metadata": {},
   "source": [
    "## A simple example"
   ]
  },
  {
   "cell_type": "markdown",
   "id": "545b488f",
   "metadata": {},
   "source": [
    "The purpose of this example is to illustrate $\\Delta$, $\\rho$, the average height and the Kemeny order."
   ]
  },
  {
   "cell_type": "code",
   "execution_count": 3,
   "id": "1f58e281",
   "metadata": {
    "ExecuteTime": {
     "end_time": "2023-05-23T23:48:30.350090Z",
     "start_time": "2023-05-23T23:48:29.791865Z"
    }
   },
   "outputs": [
    {
     "data": {
      "image/png": "[encoded data removed]",
      "text/plain": [
       "<Figure size 640x480 with 1 Axes>"
      ]
     },
     "metadata": {},
     "output_type": "display_data"
    }
   ],
   "source": [
    "poset = ChainAndY(0, 1, 3, 2)\n",
    "poset.draw(with_labels=True, alpha_labels=True)"
   ]
  },
  {
   "cell_type": "code",
   "execution_count": 4,
   "id": "f4f1c5c3",
   "metadata": {
    "ExecuteTime": {
     "end_time": "2023-05-23T23:48:30.381911Z",
     "start_time": "2023-05-23T23:48:30.366154Z"
    }
   },
   "outputs": [
    {
     "data": {
      "text/plain": [
       "array([-5, -1,  1,  3,  0,  2])"
      ]
     },
     "execution_count": 4,
     "metadata": {},
     "output_type": "execute_result"
    }
   ],
   "source": [
    "poset.delta"
   ]
  },
  {
   "cell_type": "code",
   "execution_count": 5,
   "id": "9289e1f1",
   "metadata": {
    "ExecuteTime": {
     "end_time": "2023-05-23T23:48:30.412827Z",
     "start_time": "2023-05-23T23:48:30.391993Z"
    }
   },
   "outputs": [
    {
     "data": {
      "text/plain": [
       "array([Fraction(1, 7), Fraction(2, 5), Fraction(3, 5), Fraction(4, 5),\n",
       "       Fraction(1, 2), Fraction(3, 4)], dtype=object)"
      ]
     },
     "execution_count": 5,
     "metadata": {},
     "output_type": "execute_result"
    }
   ],
   "source": [
    "poset.rho"
   ]
  },
  {
   "cell_type": "code",
   "execution_count": 6,
   "id": "215b9fd0",
   "metadata": {
    "ExecuteTime": {
     "end_time": "2023-05-23T23:48:30.443406Z",
     "start_time": "2023-05-23T23:48:30.422851Z"
    }
   },
   "outputs": [
    {
     "data": {
      "text/plain": [
       "array([Fraction(1, 1), Fraction(5, 2), Fraction(4, 1), Fraction(11, 2),\n",
       "       Fraction(3, 1), Fraction(5, 1)], dtype=object)"
      ]
     },
     "execution_count": 6,
     "metadata": {},
     "output_type": "execute_result"
    }
   ],
   "source": [
    "poset.average_height"
   ]
  },
  {
   "cell_type": "code",
   "execution_count": 7,
   "id": "903277c2",
   "metadata": {
    "ExecuteTime": {
     "end_time": "2023-05-23T23:48:30.474386Z",
     "start_time": "2023-05-23T23:48:30.454413Z"
    }
   },
   "outputs": [
    {
     "name": "stdout",
     "output_type": "stream",
     "text": [
      "(abecfd)\n"
     ]
    }
   ],
   "source": [
    "print_order_as_letters(poset.order_delta)"
   ]
  },
  {
   "cell_type": "code",
   "execution_count": 8,
   "id": "330f08e1",
   "metadata": {
    "ExecuteTime": {
     "end_time": "2023-05-23T23:48:30.505786Z",
     "start_time": "2023-05-23T23:48:30.486388Z"
    }
   },
   "outputs": [
    {
     "name": "stdout",
     "output_type": "stream",
     "text": [
      "(abecfd)\n"
     ]
    }
   ],
   "source": [
    "print_order_as_letters(poset.order_rho)"
   ]
  },
  {
   "cell_type": "code",
   "execution_count": 9,
   "id": "85ffe1e6",
   "metadata": {
    "ExecuteTime": {
     "end_time": "2023-05-23T23:48:30.537077Z",
     "start_time": "2023-05-23T23:48:30.517398Z"
    }
   },
   "outputs": [
    {
     "name": "stdout",
     "output_type": "stream",
     "text": [
      "(abecfd)\n"
     ]
    }
   ],
   "source": [
    "print_order_as_letters(poset.order_average_height)"
   ]
  },
  {
   "cell_type": "code",
   "execution_count": 10,
   "id": "4b0c077e",
   "metadata": {
    "ExecuteTime": {
     "end_time": "2023-05-23T23:48:30.582820Z",
     "start_time": "2023-05-23T23:48:30.553641Z"
    }
   },
   "outputs": [
    {
     "name": "stdout",
     "output_type": "stream",
     "text": [
      "(abecfd)\n"
     ]
    }
   ],
   "source": [
    "print_order_as_letters(poset.order_kemeny)"
   ]
  },
  {
   "cell_type": "markdown",
   "id": "a099df25",
   "metadata": {},
   "source": [
    "## Looking for a more complex example"
   ]
  },
  {
   "cell_type": "markdown",
   "id": "c90b1259",
   "metadata": {},
   "source": [
    "We are now looking for an example where the estimators $\\Delta$, $\\rho$, the average height and the Kemeny order all yield distinct orderings."
   ]
  },
  {
   "cell_type": "code",
   "execution_count": 11,
   "id": "6fabb315",
   "metadata": {
    "ExecuteTime": {
     "end_time": "2023-05-23T23:48:30.612827Z",
     "start_time": "2023-05-23T23:48:30.589849Z"
    }
   },
   "outputs": [],
   "source": [
    "def is_good_example(a, b, c, d):\n",
    "    poset = ChainAndY(a, b, c, d)\n",
    "    n_nodes = poset.n_nodes\n",
    "    rho = poset.rho\n",
    "    if len(set(rho)) < n_nodes:  # Tie in rho\n",
    "        return False\n",
    "    delta = poset.delta\n",
    "    if len(set(delta)) < n_nodes:  # Tie in delta\n",
    "        return False\n",
    "    order_rho = poset.order_rho\n",
    "    order_delta = poset.order_delta\n",
    "    if np.array_equal(order_rho, order_delta):  # rho and delta agree\n",
    "        return False\n",
    "    normalized_height = poset.average_normalized_height\n",
    "    if len(set(normalized_height)) < n_nodes:  # Tie in p\n",
    "        return False\n",
    "    order_average_height = poset.order_average_height\n",
    "    if np.array_equal(order_average_height, order_rho):  # p and rho agree\n",
    "        return False\n",
    "    if np.array_equal(order_average_height, order_delta):  # p and delta agree\n",
    "        return False\n",
    "    order_kemeny = poset.order_kemeny\n",
    "    if np.array_equal(order_kemeny, order_rho):  # kemeny and rho agree\n",
    "        return False\n",
    "    if np.array_equal(order_kemeny, order_delta):  # kemeny and delta agree\n",
    "        return False\n",
    "    if np.array_equal(order_kemeny, order_average_height):  # kemeny and p agree\n",
    "        return False\n",
    "    return True"
   ]
  },
  {
   "cell_type": "code",
   "execution_count": 12,
   "id": "64adbad8",
   "metadata": {
    "ExecuteTime": {
     "end_time": "2023-05-23T23:48:30.644154Z",
     "start_time": "2023-05-23T23:48:30.622174Z"
    }
   },
   "outputs": [],
   "source": [
    "def find_minimal_example():\n",
    "    n_nodes = 0\n",
    "    results = []\n",
    "    found = False\n",
    "    while not found:\n",
    "        n_nodes += 1\n",
    "        print(f\"Testing {n_nodes=}...\")\n",
    "        for a in range(n_nodes + 1):\n",
    "            for b in range(n_nodes - a + 1):\n",
    "                remains = n_nodes - a - b\n",
    "                for c in range(remains // 2 + 1):\n",
    "                    d = n_nodes - a - b - c\n",
    "                    # print(f\"Testing {a=}, {b=}, {c=}, {d=}...\")\n",
    "                    if is_good_example(a, b, c, d):\n",
    "                        results.append((a, b, c, d))\n",
    "                        found = True\n",
    "    return results"
   ]
  },
  {
   "cell_type": "code",
   "execution_count": 13,
   "id": "b65ce146",
   "metadata": {
    "ExecuteTime": {
     "end_time": "2023-05-23T23:48:33.361433Z",
     "start_time": "2023-05-23T23:48:30.654590Z"
    },
    "scrolled": true
   },
   "outputs": [
    {
     "name": "stdout",
     "output_type": "stream",
     "text": [
      "Testing n_nodes=1...\n",
      "Testing n_nodes=2...\n",
      "Testing n_nodes=3...\n",
      "Testing n_nodes=4...\n",
      "Testing n_nodes=5...\n",
      "Testing n_nodes=6...\n",
      "Testing n_nodes=7...\n",
      "Testing n_nodes=8...\n",
      "Testing n_nodes=9...\n",
      "Testing n_nodes=10...\n",
      "Testing n_nodes=11...\n",
      "Testing n_nodes=12...\n",
      "Testing n_nodes=13...\n",
      "Testing n_nodes=14...\n",
      "Testing n_nodes=15...\n"
     ]
    }
   ],
   "source": [
    "results = find_minimal_example()"
   ]
  },
  {
   "cell_type": "code",
   "execution_count": 14,
   "id": "c6a3cf8c",
   "metadata": {
    "ExecuteTime": {
     "end_time": "2023-05-23T23:48:33.393251Z",
     "start_time": "2023-05-23T23:48:33.369189Z"
    }
   },
   "outputs": [
    {
     "data": {
      "text/plain": [
       "[(3, 7, 2, 3)]"
      ]
     },
     "execution_count": 14,
     "metadata": {},
     "output_type": "execute_result"
    }
   ],
   "source": [
    "results"
   ]
  },
  {
   "cell_type": "code",
   "execution_count": 15,
   "id": "99e86463",
   "metadata": {
    "ExecuteTime": {
     "end_time": "2023-05-23T23:48:34.033482Z",
     "start_time": "2023-05-23T23:48:33.402993Z"
    }
   },
   "outputs": [
    {
     "data": {
      "image/png": "[encoded data removed]",
      "text/plain": [
       "<Figure size 640x480 with 1 Axes>"
      ]
     },
     "metadata": {},
     "output_type": "display_data"
    }
   ],
   "source": [
    "poset = ChainAndY(*results[0])\n",
    "poset.draw(with_labels=True, alpha_labels=True)"
   ]
  },
  {
   "cell_type": "code",
   "execution_count": 16,
   "id": "f3458f27",
   "metadata": {
    "ExecuteTime": {
     "end_time": "2023-05-23T23:48:34.265775Z",
     "start_time": "2023-05-23T23:48:34.048527Z"
    }
   },
   "outputs": [
    {
     "name": "stdout",
     "output_type": "stream",
     "text": [
      "delta\n",
      "(defghaibjcmknlo)\n",
      "10.03076923076923\n",
      "\n",
      "rho\n",
      "(defaghibjmcknlo)\n",
      "8.914285714285715\n",
      "\n",
      "average_height\n",
      "(defaghibjmkcnlo)\n",
      "8.661978021978022\n",
      "\n",
      "kemeny\n",
      "(deafghibjmknclo)\n",
      "8.61054945054945\n",
      "\n"
     ]
    }
   ],
   "source": [
    "for criterion in ['delta', 'rho', 'average_height', 'kemeny']:\n",
    "    print(criterion)\n",
    "    order = getattr(poset, f'order_{criterion}')\n",
    "    print_order_as_letters(order)\n",
    "    print(poset.kemeny_score(order))\n",
    "    print()"
   ]
  },
  {
   "cell_type": "code",
   "execution_count": 17,
   "id": "2b5127a9",
   "metadata": {
    "ExecuteTime": {
     "end_time": "2023-05-23T23:48:34.297497Z",
     "start_time": "2023-05-23T23:48:34.273797Z"
    }
   },
   "outputs": [
    {
     "data": {
      "text/plain": [
       "array([ -2,   0,   2, -11,  -9,  -7,  -5,  -3,  -1,   1,   6,   8,   5,\n",
       "         7,   9])"
      ]
     },
     "execution_count": 17,
     "metadata": {},
     "output_type": "execute_result"
    }
   ],
   "source": [
    "poset.delta"
   ]
  },
  {
   "cell_type": "code",
   "execution_count": 18,
   "id": "9353b297",
   "metadata": {
    "ExecuteTime": {
     "end_time": "2023-05-23T23:48:34.327973Z",
     "start_time": "2023-05-23T23:48:34.307799Z"
    }
   },
   "outputs": [
    {
     "data": {
      "text/plain": [
       "array([Fraction(1, 4), Fraction(1, 2), Fraction(3, 4), Fraction(1, 13),\n",
       "       Fraction(2, 13), Fraction(3, 13), Fraction(4, 13), Fraction(5, 13),\n",
       "       Fraction(6, 13), Fraction(7, 13), Fraction(4, 5), Fraction(9, 10),\n",
       "       Fraction(8, 11), Fraction(9, 11), Fraction(10, 11)], dtype=object)"
      ]
     },
     "execution_count": 18,
     "metadata": {},
     "output_type": "execute_result"
    }
   ],
   "source": [
    "poset.rho"
   ]
  },
  {
   "cell_type": "code",
   "execution_count": 19,
   "id": "f87bfb2b",
   "metadata": {
    "ExecuteTime": {
     "end_time": "2023-05-23T23:48:34.358919Z",
     "start_time": "2023-05-23T23:48:34.336851Z"
    }
   },
   "outputs": [
    {
     "data": {
      "text/plain": [
       "array([Fraction(1, 4), Fraction(1, 2), Fraction(3, 4), Fraction(1, 13),\n",
       "       Fraction(2, 13), Fraction(3, 13), Fraction(4, 13), Fraction(5, 13),\n",
       "       Fraction(6, 13), Fraction(7, 13), Fraction(9, 13),\n",
       "       Fraction(11, 13), Fraction(17, 26), Fraction(10, 13),\n",
       "       Fraction(23, 26)], dtype=object)"
      ]
     },
     "execution_count": 19,
     "metadata": {},
     "output_type": "execute_result"
    }
   ],
   "source": [
    "poset.average_normalized_height"
   ]
  }
 ],
 "metadata": {
  "kernelspec": {
   "display_name": "Python 3 (ipykernel)",
   "language": "python",
   "name": "python3"
  },
  "language_info": {
   "codemirror_mode": {
    "name": "ipython",
    "version": 3
   },
   "file_extension": ".py",
   "mimetype": "text/x-python",
   "name": "python",
   "nbconvert_exporter": "python",
   "pygments_lexer": "ipython3",
   "version": "3.9.13"
  },
  "toc": {
   "base_numbering": 1,
   "nav_menu": {},
   "number_sections": true,
   "sideBar": true,
   "skip_h1_title": true,
   "title_cell": "Table of Contents",
   "title_sidebar": "Contents",
   "toc_cell": false,
   "toc_position": {},
   "toc_section_display": true,
   "toc_window_display": false
  }
 },
 "nbformat": 4,
 "nbformat_minor": 5
}
